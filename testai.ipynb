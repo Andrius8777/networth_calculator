def get_img_data(f, max_size=(1200, 850), first=False):
    img = Image.open(f)
    img.thumbnail(max_size)
    bio = io.BytesIO()
    img.save(bio, format="PNG")
    del img
    return bio.getvalue()

# Load your background image
background_image_path = "path/to/your/image.png"  # Update with your image file path
background_img_data = get_img_data(background_image_path)

# Define the layout for the GUI
layout = [
    # Your GUI elements layout here
    [sg.Text("Your GUI on top of image background")]
    # ...
]

# Create a window
window = sg.Window("Window with Background Image", layout, finalize=True)